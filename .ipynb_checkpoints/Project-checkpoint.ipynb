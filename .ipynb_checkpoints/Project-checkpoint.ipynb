{
 "cells": [
  {
   "cell_type": "code",
   "execution_count": 2,
   "metadata": {
    "collapsed": false
   },
   "outputs": [
    {
     "name": "stdout",
     "output_type": "stream",
     "text": [
      "Populating the interactive namespace from numpy and matplotlib\n"
     ]
    }
   ],
   "source": [
    "%pylab inline\n",
    "import pandas as pd\n",
    "from sklearn import preprocessing\n",
    "from sklearn.neighbors import KNeighborsClassifier\n",
    "\n",
    "from sklearn import (datasets, decomposition, ensemble, manifold, random_projection)"
   ]
  },
  {
   "cell_type": "code",
   "execution_count": 3,
   "metadata": {
    "collapsed": false
   },
   "outputs": [],
   "source": [
    "server_data = pd.read_csv('data.gz', sep=';', header = None)\n",
    "server_data.columns = ['date', 'hour', 'method', 'content', 'protocol', 'domain', 'code', 'size', 'target']"
   ]
  },
  {
   "cell_type": "code",
   "execution_count": 4,
   "metadata": {
    "collapsed": false
   },
   "outputs": [
    {
     "data": {
      "text/html": [
       "<div>\n",
       "<table border=\"1\" class=\"dataframe\">\n",
       "  <thead>\n",
       "    <tr style=\"text-align: right;\">\n",
       "      <th></th>\n",
       "      <th>date</th>\n",
       "      <th>hour</th>\n",
       "      <th>method</th>\n",
       "      <th>content</th>\n",
       "      <th>protocol</th>\n",
       "      <th>domain</th>\n",
       "      <th>code</th>\n",
       "      <th>size</th>\n",
       "      <th>target</th>\n",
       "    </tr>\n",
       "  </thead>\n",
       "  <tbody>\n",
       "    <tr>\n",
       "      <th>0</th>\n",
       "      <td>808095600</td>\n",
       "      <td>52609.0</td>\n",
       "      <td>GET</td>\n",
       "      <td>/images/USA-logosmall.gif</td>\n",
       "      <td>HTTP/1.0</td>\n",
       "      <td>163.205.166.17</td>\n",
       "      <td>304</td>\n",
       "      <td>0</td>\n",
       "      <td>1</td>\n",
       "    </tr>\n",
       "    <tr>\n",
       "      <th>1</th>\n",
       "      <td>808009200</td>\n",
       "      <td>16781.0</td>\n",
       "      <td>GET</td>\n",
       "      <td>/history/apollo/as-202/as-202-patch-small.gif</td>\n",
       "      <td>HTTP/1.0</td>\n",
       "      <td>nikita.cst.cnes.fr</td>\n",
       "      <td>200</td>\n",
       "      <td>20647</td>\n",
       "      <td>1</td>\n",
       "    </tr>\n",
       "    <tr>\n",
       "      <th>2</th>\n",
       "      <td>807836400</td>\n",
       "      <td>33870.0</td>\n",
       "      <td>GET</td>\n",
       "      <td>/history/apollo/images/footprint-logo.gif</td>\n",
       "      <td>HTTP/1.0</td>\n",
       "      <td>stud323-15.teknutb.hks.se</td>\n",
       "      <td>200</td>\n",
       "      <td>4209</td>\n",
       "      <td>1</td>\n",
       "    </tr>\n",
       "    <tr>\n",
       "      <th>3</th>\n",
       "      <td>805590000</td>\n",
       "      <td>40317.0</td>\n",
       "      <td>GET</td>\n",
       "      <td>/shuttle/countdown/count70.gif</td>\n",
       "      <td>HTTP/1.0</td>\n",
       "      <td>129.52.103.195</td>\n",
       "      <td>200</td>\n",
       "      <td>46573</td>\n",
       "      <td>1</td>\n",
       "    </tr>\n",
       "    <tr>\n",
       "      <th>4</th>\n",
       "      <td>805417200</td>\n",
       "      <td>45979.0</td>\n",
       "      <td>GET</td>\n",
       "      <td>/images/ksclogo-medium.gif</td>\n",
       "      <td>HTTP/1.0</td>\n",
       "      <td>ad01-041.compuserve.com</td>\n",
       "      <td>200</td>\n",
       "      <td>5866</td>\n",
       "      <td>1</td>\n",
       "    </tr>\n",
       "    <tr>\n",
       "      <th>5</th>\n",
       "      <td>809650800</td>\n",
       "      <td>6349.0</td>\n",
       "      <td>GET</td>\n",
       "      <td>/history/apollo/apollo-sa.html</td>\n",
       "      <td>HTTP/1.0</td>\n",
       "      <td>ymdindy1.estec.esa.nl</td>\n",
       "      <td>200</td>\n",
       "      <td>2400</td>\n",
       "      <td>1</td>\n",
       "    </tr>\n",
       "    <tr>\n",
       "      <th>6</th>\n",
       "      <td>808959600</td>\n",
       "      <td>35340.0</td>\n",
       "      <td>GET</td>\n",
       "      <td>/images/WORLD-logosmall.gif</td>\n",
       "      <td>HTTP/1.0</td>\n",
       "      <td>128.217.62.2</td>\n",
       "      <td>200</td>\n",
       "      <td>669</td>\n",
       "      <td>1</td>\n",
       "    </tr>\n",
       "    <tr>\n",
       "      <th>7</th>\n",
       "      <td>806454000</td>\n",
       "      <td>29122.0</td>\n",
       "      <td>GET</td>\n",
       "      <td>/mdss/s_md-2.gif</td>\n",
       "      <td>HTTP/1.0</td>\n",
       "      <td>asd03-20.dial.xs4all.nl</td>\n",
       "      <td>200</td>\n",
       "      <td>15528</td>\n",
       "      <td>1</td>\n",
       "    </tr>\n",
       "    <tr>\n",
       "      <th>8</th>\n",
       "      <td>805590000</td>\n",
       "      <td>50293.0</td>\n",
       "      <td>GET</td>\n",
       "      <td>/shuttle/technology/images/srb_mod_compare_6-s...</td>\n",
       "      <td>HTTP/1.0</td>\n",
       "      <td>cis58-lab.santafe.cc.fl.us</td>\n",
       "      <td>200</td>\n",
       "      <td>28219</td>\n",
       "      <td>1</td>\n",
       "    </tr>\n",
       "    <tr>\n",
       "      <th>9</th>\n",
       "      <td>805762800</td>\n",
       "      <td>28130.0</td>\n",
       "      <td>GET</td>\n",
       "      <td>/shuttle/missions/sts-70/images/KSC-95EC-0575.jpg</td>\n",
       "      <td>HTTP/1.0</td>\n",
       "      <td>aitra.uio.no</td>\n",
       "      <td>200</td>\n",
       "      <td>147230</td>\n",
       "      <td>1</td>\n",
       "    </tr>\n",
       "  </tbody>\n",
       "</table>\n",
       "</div>"
      ],
      "text/plain": [
       "        date     hour method  \\\n",
       "0  808095600  52609.0    GET   \n",
       "1  808009200  16781.0    GET   \n",
       "2  807836400  33870.0    GET   \n",
       "3  805590000  40317.0    GET   \n",
       "4  805417200  45979.0    GET   \n",
       "5  809650800   6349.0    GET   \n",
       "6  808959600  35340.0    GET   \n",
       "7  806454000  29122.0    GET   \n",
       "8  805590000  50293.0    GET   \n",
       "9  805762800  28130.0    GET   \n",
       "\n",
       "                                             content  protocol  \\\n",
       "0                          /images/USA-logosmall.gif  HTTP/1.0   \n",
       "1      /history/apollo/as-202/as-202-patch-small.gif  HTTP/1.0   \n",
       "2          /history/apollo/images/footprint-logo.gif  HTTP/1.0   \n",
       "3                     /shuttle/countdown/count70.gif  HTTP/1.0   \n",
       "4                         /images/ksclogo-medium.gif  HTTP/1.0   \n",
       "5                     /history/apollo/apollo-sa.html  HTTP/1.0   \n",
       "6                        /images/WORLD-logosmall.gif  HTTP/1.0   \n",
       "7                                   /mdss/s_md-2.gif  HTTP/1.0   \n",
       "8  /shuttle/technology/images/srb_mod_compare_6-s...  HTTP/1.0   \n",
       "9  /shuttle/missions/sts-70/images/KSC-95EC-0575.jpg  HTTP/1.0   \n",
       "\n",
       "                       domain  code    size  target  \n",
       "0              163.205.166.17   304       0       1  \n",
       "1          nikita.cst.cnes.fr   200   20647       1  \n",
       "2   stud323-15.teknutb.hks.se   200    4209       1  \n",
       "3              129.52.103.195   200   46573       1  \n",
       "4     ad01-041.compuserve.com   200    5866       1  \n",
       "5       ymdindy1.estec.esa.nl   200    2400       1  \n",
       "6                128.217.62.2   200     669       1  \n",
       "7     asd03-20.dial.xs4all.nl   200   15528       1  \n",
       "8  cis58-lab.santafe.cc.fl.us   200   28219       1  \n",
       "9                aitra.uio.no   200  147230       1  "
      ]
     },
     "execution_count": 4,
     "metadata": {},
     "output_type": "execute_result"
    }
   ],
   "source": [
    "server_data.head(10)"
   ]
  },
  {
   "cell_type": "code",
   "execution_count": 5,
   "metadata": {
    "collapsed": false
   },
   "outputs": [],
   "source": [
    "def print_hist(x, b= 10, lim = None, label = \"default\"):\n",
    "    hist, bins = np.histogram(x, bins=b)\n",
    "    center = (bins[:-1] + bins[1:]) / 2\n",
    "    w = 1.*(amax(x) - amin(x))/b\n",
    "    \n",
    "    if lim != None:\n",
    "        xlim(lim)\n",
    "    plt.bar(center, hist, align='center', width=w)\n",
    "    plt.title(label)\n",
    "    plt.show()\n",
    "\n",
    "def fill(data, target, feat, n_sign = '-'):\n",
    "    targets = unique(data[target])\n",
    "    means = [mean(data[data[target] == t][data[feat] != n_sign][feat].astype(int)) for t in targets]\n",
    "    print means\n",
    "    for t, m in zip(targets, means):\n",
    "        print t, m\n",
    "        data.loc[data[target] == t, feat] = data[data[target] == t][feat].map(lambda x: m if x == n_sign else x) \n",
    "\n"
   ]
  },
  {
   "cell_type": "code",
   "execution_count": 6,
   "metadata": {
    "collapsed": false
   },
   "outputs": [
    {
     "name": "stderr",
     "output_type": "stream",
     "text": [
      "/pio/lscratch/1/os/anaconda/lib/python2.7/site-packages/ipykernel/__main__.py:14: UserWarning: Boolean Series key will be reindexed to match DataFrame index.\n"
     ]
    },
    {
     "name": "stdout",
     "output_type": "stream",
     "text": [
      "[19128.814387114497, 5465.150222486877, 11825.567815941555]\n",
      "1 19128.8143871\n",
      "2 5465.15022249\n",
      "3 11825.5678159\n"
     ]
    }
   ],
   "source": [
    "fill(server_data, 'target', 'size')\n",
    "server_data['size'] = server_data['size'].astype('float64')"
   ]
  },
  {
   "cell_type": "code",
   "execution_count": 79,
   "metadata": {
    "collapsed": false
   },
   "outputs": [
    {
     "data": {
      "image/png": "[encoded data removed]",
      "text/plain": [
       "<matplotlib.figure.Figure at 0x7faba5a94990>"
      ]
     },
     "metadata": {},
     "output_type": "display_data"
    },
    {
     "data": {
      "image/png": "[encoded data removed]",
      "text/plain": [
       "<matplotlib.figure.Figure at 0x7faba5962050>"
      ]
     },
     "metadata": {},
     "output_type": "display_data"
    },
    {
     "data": {
      "image/png": "[encoded data removed]",
      "text/plain": [
       "<matplotlib.figure.Figure at 0x7faba4a43c10>"
      ]
     },
     "metadata": {},
     "output_type": "display_data"
    }
   ],
   "source": [
    "\n",
    "print_hist(server_data[server_data['target'] == 1]['hour'], b=96)\n",
    "print_hist(server_data[server_data['target'] == 2]['hour'], b=96)\n",
    "print_hist(server_data[server_data['target'] == 3]['hour'], b=96)"
   ]
  },
  {
   "cell_type": "code",
   "execution_count": 93,
   "metadata": {
    "collapsed": false,
    "scrolled": true
   },
   "outputs": [
    {
     "name": "stderr",
     "output_type": "stream",
     "text": [
      "/pio/lscratch/1/os/anaconda/lib/python2.7/site-packages/ipykernel/__main__.py:1: UserWarning: Boolean Series key will be reindexed to match DataFrame index.\n",
      "  if __name__ == '__main__':\n"
     ]
    },
    {
     "data": {
      "image/png": "[encoded data removed]",
      "text/plain": [
       "<matplotlib.figure.Figure at 0x7fab854de690>"
      ]
     },
     "metadata": {},
     "output_type": "display_data"
    },
    {
     "name": "stderr",
     "output_type": "stream",
     "text": [
      "/pio/lscratch/1/os/anaconda/lib/python2.7/site-packages/ipykernel/__main__.py:2: UserWarning: Boolean Series key will be reindexed to match DataFrame index.\n",
      "  from ipykernel import kernelapp as app\n"
     ]
    },
    {
     "data": {
      "image/png": "[encoded data removed]",
      "text/plain": [
       "<matplotlib.figure.Figure at 0x7fab847b10d0>"
      ]
     },
     "metadata": {},
     "output_type": "display_data"
    },
    {
     "name": "stderr",
     "output_type": "stream",
     "text": [
      "/pio/lscratch/1/os/anaconda/lib/python2.7/site-packages/ipykernel/__main__.py:3: UserWarning: Boolean Series key will be reindexed to match DataFrame index.\n",
      "  app.launch_new_instance()\n"
     ]
    },
    {
     "data": {
      "image/png": "[encoded data removed]",
      "text/plain": [
       "<matplotlib.figure.Figure at 0x7fab847b11d0>"
      ]
     },
     "metadata": {},
     "output_type": "display_data"
    }
   ],
   "source": [
    "print_hist(server_data[server_data['target'] == 1][server_data['size'] < 40000]['size'], b=100)\n",
    "print_hist(server_data[server_data['target'] == 2][server_data['size'] < 40000]['size'], b=100)\n",
    "print_hist(server_data[server_data['target'] == 3][server_data['size'] < 40000]['size'], b=100)\n",
    "\n"
   ]
  },
  {
   "cell_type": "code",
   "execution_count": 97,
   "metadata": {
    "collapsed": false
   },
   "outputs": [
    {
     "data": {
      "image/png": "[encoded data removed]",
      "text/plain": [
       "<matplotlib.figure.Figure at 0x7faba5469050>"
      ]
     },
     "metadata": {},
     "output_type": "display_data"
    },
    {
     "data": {
      "image/png": "[encoded data removed]",
      "text/plain": [
       "<matplotlib.figure.Figure at 0x7fab854d6f50>"
      ]
     },
     "metadata": {},
     "output_type": "display_data"
    },
    {
     "data": {
      "image/png": "[encoded data removed]",
      "text/plain": [
       "<matplotlib.figure.Figure at 0x7fab9b3c0fd0>"
      ]
     },
     "metadata": {},
     "output_type": "display_data"
    }
   ],
   "source": [
    "limes = (server_data['date'].max(), server_data['date'].min())\n",
    "print_hist(server_data[server_data['target'] == 1]['date'], lim=limes, b=100)\n",
    "print_hist(server_data[server_data['target'] == 2]['date'], lim=limes, b=100)\n",
    "print_hist(server_data[server_data['target'] == 3]['date'], lim=limes, b=100)"
   ]
  },
  {
   "cell_type": "code",
   "execution_count": 8,
   "metadata": {
    "collapsed": false
   },
   "outputs": [
    {
     "name": "stderr",
     "output_type": "stream",
     "text": [
      "/pio/os/anaconda/lib/python2.7/site-packages/sklearn/preprocessing/data.py:167: UserWarning: Numerical issues were encountered when centering the data and might not be solved. Dataset may contain too large values. You may need to prescale your features.\n",
      "  warnings.warn(\"Numerical issues were encountered \"\n"
     ]
    },
    {
     "name": "stdout",
     "output_type": "stream",
     "text": [
      "[   1.79229659    1.82112461  388.00180556    3.        ]\n",
      "[-3.01682648 -2.33593198 -0.15606764  1.        ]\n"
     ]
    },
    {
     "data": {
      "text/plain": [
       "0.84434682006749051"
      ]
     },
     "execution_count": 8,
     "metadata": {},
     "output_type": "execute_result"
    }
   ],
   "source": [
    "KNN = KNeighborsClassifier(2)\n",
    "\n",
    "server_stand = hstack((preprocessing.scale(server_data[['date', 'hour', 'size']], axis=0),  server_data['target'].get_values().reshape(-1, 1)))\n",
    "server_stand_perm = random.permutation(server_stand)\n",
    "\n",
    "print server_stand.max(axis=0)\n",
    "print server_stand.min(axis=0)\n",
    "\n",
    "KNN.fit(server_stand_perm[:1000000, :3], server_stand_perm[:1000000, 3])\n",
    "(KNN.predict(server_stand_perm[1000000:, :3]) == server_stand_perm[1000000:, 3]).mean()"
   ]
  },
  {
   "cell_type": "code",
   "execution_count": 159,
   "metadata": {
    "collapsed": false
   },
   "outputs": [
    {
     "name": "stdout",
     "output_type": "stream",
     "text": [
      "[  8.30924679e-04   1.33635553e-03   3.13270855e-01   3.00000000e+00]\n",
      "[  7.93031897e-04   0.00000000e+00   0.00000000e+00   1.00000000e+00]\n"
     ]
    },
    {
     "data": {
      "text/plain": [
       "0.82713133374905012"
      ]
     },
     "execution_count": 159,
     "metadata": {},
     "output_type": "execute_result"
    }
   ],
   "source": [
    "server_norm = hstack((preprocessing.normalize(server_data[['date', 'hour', 'size']], axis=0),  server_data['target'].get_values().reshape(-1, 1)))\n",
    "server_norm_perm = random.permutation(server_norm)\n",
    "\n",
    "print server_norm.max(axis=0)\n",
    "print server_norm.min(axis=0)\n",
    "\n",
    "KNN.fit(server_norm_perm[:1000000, :3], server_norm_perm[:1000000, 3])\n",
    "(KNN.predict(server_norm_perm[1000000:, :3]) == server_norm_perm[1000000:, 3]).mean()"
   ]
  },
  {
   "cell_type": "code",
   "execution_count": null,
   "metadata": {
    "collapsed": false
   },
   "outputs": [
    {
     "name": "stdout",
     "output_type": "stream",
     "text": [
      "date      820364400.0\n",
      "hour          86399.0\n",
      "size       30193824.0\n",
      "target            3.0\n",
      "dtype: float64\n",
      "date      782953200.0\n",
      "hour              0.0\n",
      "size              0.0\n",
      "target            1.0\n",
      "dtype: float64\n"
     ]
    },
    {
     "data": {
      "text/plain": [
       "0.84917702115543858"
      ]
     },
     "execution_count": 9,
     "metadata": {},
     "output_type": "execute_result"
    }
   ],
   "source": [
    "server= server_data[['date', 'hour', 'size', 'target']]\n",
    "server_perm = random.permutation(server)\n",
    "\n",
    "print server.max(axis=0)\n",
    "print server.min(axis=0)\n",
    "\n",
    "KNN.fit(server_perm[:1000000, :3], server_perm[:1000000, 3])\n",
    "(KNN.predict(server_perm[1000000:, :3]) == server_perm[1000000:, 3]).mean()"
   ]
  },
  {
   "cell_type": "code",
   "execution_count": null,
   "metadata": {
    "collapsed": false
   },
   "outputs": [],
   "source": [
    "server_pca = decomposition.PCA(whiten=True).fit_transform(server_perm[:10, :3])\n",
    "\n",
    "print server_pca.max(axis=0)\n",
    "print server_pca.min(axis=0)\n",
    "\n",
    "KNN.fit(server_pca[:1000000, :3], server_pca[:1000000, 3])\n",
    "(KNN.predict(server_pca[1000000:, :3]) == server_pca[1000000:, 3]).mean()"
   ]
  },
  {
   "cell_type": "code",
   "execution_count": null,
   "metadata": {
    "collapsed": true
   },
   "outputs": [],
   "source": []
  }
 ],
 "metadata": {
  "kernelspec": {
   "display_name": "Python 2",
   "language": "python",
   "name": "python2"
  },
  "language_info": {
   "codemirror_mode": {
    "name": "ipython",
    "version": 2
   },
   "file_extension": ".py",
   "mimetype": "text/x-python",
   "name": "python",
   "nbconvert_exporter": "python",
   "pygments_lexer": "ipython2",
   "version": "2.7.11"
  }
 },
 "nbformat": 4,
 "nbformat_minor": 0
}
