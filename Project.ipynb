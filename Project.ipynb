{
 "cells": [
  {
   "cell_type": "code",
   "execution_count": 94,
   "metadata": {
    "collapsed": false
   },
   "outputs": [
    {
     "name": "stdout",
     "output_type": "stream",
     "text": [
      "Populating the interactive namespace from numpy and matplotlib\n"
     ]
    }
   ],
   "source": [
    "%pylab inline\n",
    "import pandas as pd\n",
    "from sklearn import preprocessing\n",
    "from sklearn.neighbors import KNeighborsClassifier\n",
    "from sklearn.cluster import KMeans\n",
    "\n",
    "from sklearn import (datasets, decomposition, ensemble, manifold, random_projection)"
   ]
  },
  {
   "cell_type": "code",
   "execution_count": 105,
   "metadata": {
    "collapsed": false
   },
   "outputs": [],
   "source": [
    "server_data = pd.read_csv('data2.gz', sep=';', header = None)\n",
    "server_data.columns = ['date', 'month', 'day', 'dayofweek', 'hour', 'method', 'content', 'protocol', 'domain', 'code', 'size', 'target']\n",
    "server_data['protocol'] = pd.Categorical.from_array(server_data['protocol']).codes\n",
    "server_data['method'] = pd.Categorical.from_array(server_data['protocol']).codes"
   ]
  },
  {
   "cell_type": "code",
   "execution_count": 100,
   "metadata": {
    "collapsed": false
   },
   "outputs": [
    {
     "data": {
      "text/html": [
       "<div>\n",
       "<table border=\"1\" class=\"dataframe\">\n",
       "  <thead>\n",
       "    <tr style=\"text-align: right;\">\n",
       "      <th></th>\n",
       "      <th>date</th>\n",
       "      <th>month</th>\n",
       "      <th>day</th>\n",
       "      <th>dayofweek</th>\n",
       "      <th>hour</th>\n",
       "      <th>method</th>\n",
       "      <th>content</th>\n",
       "      <th>protocol</th>\n",
       "      <th>domain</th>\n",
       "      <th>code</th>\n",
       "      <th>size</th>\n",
       "      <th>target</th>\n",
       "    </tr>\n",
       "  </thead>\n",
       "  <tbody>\n",
       "    <tr>\n",
       "      <th>0</th>\n",
       "      <td>815854245</td>\n",
       "      <td>11</td>\n",
       "      <td>8</td>\n",
       "      <td>3</td>\n",
       "      <td>69045.0</td>\n",
       "      <td>GET</td>\n",
       "      <td>/~macphed/finite/fe_resources/node16.html</td>\n",
       "      <td>-1</td>\n",
       "      <td>mffry.mines.edu</td>\n",
       "      <td>200</td>\n",
       "      <td>1413</td>\n",
       "      <td>2</td>\n",
       "    </tr>\n",
       "    <tr>\n",
       "      <th>1</th>\n",
       "      <td>815743836</td>\n",
       "      <td>11</td>\n",
       "      <td>7</td>\n",
       "      <td>2</td>\n",
       "      <td>45036.0</td>\n",
       "      <td>GET</td>\n",
       "      <td>/dcs/courses/cai/html/introduction_lesson/desc...</td>\n",
       "      <td>6</td>\n",
       "      <td>enghouse.com</td>\n",
       "      <td>200</td>\n",
       "      <td>1520</td>\n",
       "      <td>2</td>\n",
       "    </tr>\n",
       "    <tr>\n",
       "      <th>2</th>\n",
       "      <td>812296001</td>\n",
       "      <td>9</td>\n",
       "      <td>28</td>\n",
       "      <td>4</td>\n",
       "      <td>53201.0</td>\n",
       "      <td>GET</td>\n",
       "      <td>/mlookup/white.html</td>\n",
       "      <td>6</td>\n",
       "      <td>mac13.ee.umn.edu</td>\n",
       "      <td>200</td>\n",
       "      <td>511</td>\n",
       "      <td>2</td>\n",
       "    </tr>\n",
       "    <tr>\n",
       "      <th>3</th>\n",
       "      <td>812531958</td>\n",
       "      <td>10</td>\n",
       "      <td>1</td>\n",
       "      <td>0</td>\n",
       "      <td>29958.0</td>\n",
       "      <td>GET</td>\n",
       "      <td>/~scottp/publish.html</td>\n",
       "      <td>-1</td>\n",
       "      <td>ix-bos6-07.ix.netcom.com</td>\n",
       "      <td>200</td>\n",
       "      <td>271</td>\n",
       "      <td>2</td>\n",
       "    </tr>\n",
       "    <tr>\n",
       "      <th>4</th>\n",
       "      <td>817730723</td>\n",
       "      <td>11</td>\n",
       "      <td>30</td>\n",
       "      <td>4</td>\n",
       "      <td>44723.0</td>\n",
       "      <td>GET</td>\n",
       "      <td>/~scottp/index.html</td>\n",
       "      <td>-1</td>\n",
       "      <td>www.gnofn.org</td>\n",
       "      <td>200</td>\n",
       "      <td>1990</td>\n",
       "      <td>2</td>\n",
       "    </tr>\n",
       "    <tr>\n",
       "      <th>5</th>\n",
       "      <td>820322820</td>\n",
       "      <td>12</td>\n",
       "      <td>30</td>\n",
       "      <td>6</td>\n",
       "      <td>44820.0</td>\n",
       "      <td>GET</td>\n",
       "      <td>/~macpherc/images/tspbadge.gif</td>\n",
       "      <td>-1</td>\n",
       "      <td>dd59-006.compuserve.com</td>\n",
       "      <td>200</td>\n",
       "      <td>3282</td>\n",
       "      <td>2</td>\n",
       "    </tr>\n",
       "    <tr>\n",
       "      <th>6</th>\n",
       "      <td>812575818</td>\n",
       "      <td>10</td>\n",
       "      <td>1</td>\n",
       "      <td>0</td>\n",
       "      <td>73818.0</td>\n",
       "      <td>GET</td>\n",
       "      <td>/search/index.html</td>\n",
       "      <td>6</td>\n",
       "      <td>alf.usask.ca</td>\n",
       "      <td>200</td>\n",
       "      <td>1673</td>\n",
       "      <td>2</td>\n",
       "    </tr>\n",
       "    <tr>\n",
       "      <th>7</th>\n",
       "      <td>813597593</td>\n",
       "      <td>10</td>\n",
       "      <td>13</td>\n",
       "      <td>5</td>\n",
       "      <td>58793.0</td>\n",
       "      <td>GET</td>\n",
       "      <td>/wcvm/picture.gif</td>\n",
       "      <td>6</td>\n",
       "      <td>wcvm7661.usask.ca</td>\n",
       "      <td>200</td>\n",
       "      <td>1295</td>\n",
       "      <td>2</td>\n",
       "    </tr>\n",
       "    <tr>\n",
       "      <th>8</th>\n",
       "      <td>818321925</td>\n",
       "      <td>12</td>\n",
       "      <td>7</td>\n",
       "      <td>4</td>\n",
       "      <td>31125.0</td>\n",
       "      <td>GET</td>\n",
       "      <td>/~ladd/lsu.html</td>\n",
       "      <td>-1</td>\n",
       "      <td>prism.lib.auburn.edu</td>\n",
       "      <td>200</td>\n",
       "      <td>1093</td>\n",
       "      <td>2</td>\n",
       "    </tr>\n",
       "    <tr>\n",
       "      <th>9</th>\n",
       "      <td>816535726</td>\n",
       "      <td>11</td>\n",
       "      <td>16</td>\n",
       "      <td>4</td>\n",
       "      <td>59326.0</td>\n",
       "      <td>GET</td>\n",
       "      <td>/~zhaok/image/icon/uslogo32.gif</td>\n",
       "      <td>-1</td>\n",
       "      <td>geolab10.usask.ca</td>\n",
       "      <td>200</td>\n",
       "      <td>1640</td>\n",
       "      <td>2</td>\n",
       "    </tr>\n",
       "  </tbody>\n",
       "</table>\n",
       "</div>"
      ],
      "text/plain": [
       "        date  month  day  dayofweek     hour method  \\\n",
       "0  815854245     11    8          3  69045.0    GET   \n",
       "1  815743836     11    7          2  45036.0    GET   \n",
       "2  812296001      9   28          4  53201.0    GET   \n",
       "3  812531958     10    1          0  29958.0    GET   \n",
       "4  817730723     11   30          4  44723.0    GET   \n",
       "5  820322820     12   30          6  44820.0    GET   \n",
       "6  812575818     10    1          0  73818.0    GET   \n",
       "7  813597593     10   13          5  58793.0    GET   \n",
       "8  818321925     12    7          4  31125.0    GET   \n",
       "9  816535726     11   16          4  59326.0    GET   \n",
       "\n",
       "                                             content  protocol  \\\n",
       "0          /~macphed/finite/fe_resources/node16.html        -1   \n",
       "1  /dcs/courses/cai/html/introduction_lesson/desc...         6   \n",
       "2                                /mlookup/white.html         6   \n",
       "3                              /~scottp/publish.html        -1   \n",
       "4                                /~scottp/index.html        -1   \n",
       "5                     /~macpherc/images/tspbadge.gif        -1   \n",
       "6                                 /search/index.html         6   \n",
       "7                                  /wcvm/picture.gif         6   \n",
       "8                                    /~ladd/lsu.html        -1   \n",
       "9                    /~zhaok/image/icon/uslogo32.gif        -1   \n",
       "\n",
       "                     domain  code  size  target  \n",
       "0           mffry.mines.edu   200  1413       2  \n",
       "1              enghouse.com   200  1520       2  \n",
       "2          mac13.ee.umn.edu   200   511       2  \n",
       "3  ix-bos6-07.ix.netcom.com   200   271       2  \n",
       "4             www.gnofn.org   200  1990       2  \n",
       "5   dd59-006.compuserve.com   200  3282       2  \n",
       "6              alf.usask.ca   200  1673       2  \n",
       "7         wcvm7661.usask.ca   200  1295       2  \n",
       "8      prism.lib.auburn.edu   200  1093       2  \n",
       "9         geolab10.usask.ca   200  1640       2  "
      ]
     },
     "execution_count": 100,
     "metadata": {},
     "output_type": "execute_result"
    }
   ],
   "source": [
    "server_data.head(10)"
   ]
  },
  {
   "cell_type": "code",
   "execution_count": 5,
   "metadata": {
    "collapsed": false
   },
   "outputs": [],
   "source": [
    "def print_hist(x, b= 10, lim = None, label = \"default\"):\n",
    "    hist, bins = np.histogram(x, bins=b)\n",
    "    center = (bins[:-1] + bins[1:]) / 2\n",
    "    w = 1.*(amax(x) - amin(x))/b\n",
    "    \n",
    "    if lim != None:\n",
    "        xlim(lim)\n",
    "    plt.bar(center, hist, align='center', width=w)\n",
    "    plt.title(label)\n",
    "    plt.show()\n",
    "\n",
    "def fill_with_mean(data, target, feat, n_sign = '-'):\n",
    "    targets = unique(data[target])\n",
    "    means = [mean(data[data[target] == t][data[feat] != n_sign][feat].astype(int)) for t in targets]\n",
    "    print means\n",
    "    for t, m in zip(targets, means):\n",
    "        print t, m\n",
    "        data.loc[data[target] == t, feat] = data[data[target] == t][feat].map(lambda x: m if x == n_sign else x) \n",
    "\n"
   ]
  },
  {
   "cell_type": "code",
   "execution_count": 106,
   "metadata": {
    "collapsed": false
   },
   "outputs": [
    {
     "name": "stderr",
     "output_type": "stream",
     "text": [
      "/pio/scratch/1/i248066/envs/my_root/lib/python2.7/site-packages/ipykernel/__main__.py:14: UserWarning: Boolean Series key will be reindexed to match DataFrame index.\n"
     ]
    },
    {
     "name": "stdout",
     "output_type": "stream",
     "text": [
      "[19068.667106804973, 5573.551018238432, 11853.203347331131]\n",
      "1 19068.6671068\n",
      "2 5573.55101824\n",
      "3 11853.2033473\n"
     ]
    }
   ],
   "source": [
    "fill_with_mean(server_data, 'target', 'size')\n",
    "server_data['size'] = server_data['size'].astype('float64')"
   ]
  },
  {
   "cell_type": "code",
   "execution_count": 43,
   "metadata": {
    "collapsed": false
   },
   "outputs": [
    {
     "data": {
      "image/png": "[encoded data removed]",
      "text/plain": [
       "<matplotlib.figure.Figure at 0x7f915f6ed850>"
      ]
     },
     "metadata": {},
     "output_type": "display_data"
    },
    {
     "data": {
      "image/png": "[encoded data removed]",
      "text/plain": [
       "<matplotlib.figure.Figure at 0x7f913a97d9d0>"
      ]
     },
     "metadata": {},
     "output_type": "display_data"
    },
    {
     "data": {
      "image/png": "[encoded data removed]",
      "text/plain": [
       "<matplotlib.figure.Figure at 0x7f915a1d95d0>"
      ]
     },
     "metadata": {},
     "output_type": "display_data"
    }
   ],
   "source": [
    "print_hist(server_data[server_data['target'] == 1]['hour'], b=96)\n",
    "print_hist(server_data[server_data['target'] == 2]['hour'], b=96)\n",
    "print_hist(server_data[server_data['target'] == 3]['hour'], b=96)"
   ]
  },
  {
   "cell_type": "code",
   "execution_count": 61,
   "metadata": {
    "collapsed": false,
    "scrolled": true
   },
   "outputs": [
    {
     "name": "stderr",
     "output_type": "stream",
     "text": [
      "/pio/scratch/1/i248066/envs/my_root/lib/python2.7/site-packages/ipykernel/__main__.py:1: UserWarning: Boolean Series key will be reindexed to match DataFrame index.\n",
      "  if __name__ == '__main__':\n"
     ]
    },
    {
     "data": {
      "image/png": "[encoded data removed]",
      "text/plain": [
       "<matplotlib.figure.Figure at 0x7f915f10e150>"
      ]
     },
     "metadata": {},
     "output_type": "display_data"
    },
    {
     "name": "stderr",
     "output_type": "stream",
     "text": [
      "/pio/scratch/1/i248066/envs/my_root/lib/python2.7/site-packages/ipykernel/__main__.py:2: UserWarning: Boolean Series key will be reindexed to match DataFrame index.\n",
      "  from ipykernel import kernelapp as app\n"
     ]
    },
    {
     "data": {
      "image/png": "[encoded data removed]",
      "text/plain": [
       "<matplotlib.figure.Figure at 0x7f915a1f28d0>"
      ]
     },
     "metadata": {},
     "output_type": "display_data"
    },
    {
     "name": "stderr",
     "output_type": "stream",
     "text": [
      "/pio/scratch/1/i248066/envs/my_root/lib/python2.7/site-packages/ipykernel/__main__.py:3: UserWarning: Boolean Series key will be reindexed to match DataFrame index.\n",
      "  app.launch_new_instance()\n"
     ]
    },
    {
     "data": {
      "image/png": "[encoded data removed]",
      "text/plain": [
       "<matplotlib.figure.Figure at 0x7f9158ee0050>"
      ]
     },
     "metadata": {},
     "output_type": "display_data"
    }
   ],
   "source": [
    "print_hist(server_data[server_data['target'] == 1][server_data['size'] < 40000]['size'], b=100)\n",
    "print_hist(server_data[server_data['target'] == 2][server_data['size'] < 40000]['size'], b=100)\n",
    "print_hist(server_data[server_data['target'] == 3][server_data['size'] < 40000]['size'], b=100)\n",
    "\n"
   ]
  },
  {
   "cell_type": "code",
   "execution_count": 44,
   "metadata": {
    "collapsed": false
   },
   "outputs": [
    {
     "data": {
      "image/png": "[encoded data removed]",
      "text/plain": [
       "<matplotlib.figure.Figure at 0x7f915e6cba90>"
      ]
     },
     "metadata": {},
     "output_type": "display_data"
    },
    {
     "data": {
      "image/png": "[encoded data removed]",
      "text/plain": [
       "<matplotlib.figure.Figure at 0x7f91357d1ed0>"
      ]
     },
     "metadata": {},
     "output_type": "display_data"
    },
    {
     "data": {
      "image/png": "[encoded data removed]",
      "text/plain": [
       "<matplotlib.figure.Figure at 0x7f915eb40350>"
      ]
     },
     "metadata": {},
     "output_type": "display_data"
    }
   ],
   "source": [
    "limes = (server_data['date'].max(), server_data['date'].min())\n",
    "print_hist(server_data[server_data['target'] == 1]['date'], lim=limes, b=100)\n",
    "print_hist(server_data[server_data['target'] == 2]['date'], lim=limes, b=100)\n",
    "print_hist(server_data[server_data['target'] == 3]['date'], lim=limes, b=100)"
   ]
  },
  {
   "cell_type": "code",
   "execution_count": 45,
   "metadata": {
    "collapsed": false
   },
   "outputs": [
    {
     "data": {
      "image/png": "[encoded data removed]",
      "text/plain": [
       "<matplotlib.figure.Figure at 0x7f915ebe3450>"
      ]
     },
     "metadata": {},
     "output_type": "display_data"
    },
    {
     "data": {
      "image/png": "[encoded data removed]",
      "text/plain": [
       "<matplotlib.figure.Figure at 0x7f915ece8410>"
      ]
     },
     "metadata": {},
     "output_type": "display_data"
    },
    {
     "data": {
      "image/png": "[encoded data removed]",
      "text/plain": [
       "<matplotlib.figure.Figure at 0x7f915d52bd50>"
      ]
     },
     "metadata": {},
     "output_type": "display_data"
    }
   ],
   "source": [
    "from collections import Counter\n",
    "from datetime import datetime\n",
    "\n",
    "def datebar(date, fmt):\n",
    "    c = Counter(map(lambda d: datetime.fromtimestamp(d).strftime(fmt), date))\n",
    "\n",
    "    d = pd.DataFrame.from_dict(c, orient='index')\n",
    "    d.plot(kind='bar')\n",
    "    \n",
    "datebar(server_data[server_data['target'] == 1]['date'], \"%A\")\n",
    "datebar(server_data[server_data['target'] == 2]['date'], \"%A\")\n",
    "datebar(server_data[server_data['target'] == 3]['date'], \"%A\")"
   ]
  },
  {
   "cell_type": "code",
   "execution_count": 46,
   "metadata": {
    "collapsed": false
   },
   "outputs": [
    {
     "data": {
      "image/png": "[encoded data removed]",
      "text/plain": [
       "<matplotlib.figure.Figure at 0x7f915a221910>"
      ]
     },
     "metadata": {},
     "output_type": "display_data"
    },
    {
     "data": {
      "image/png": "[encoded data removed]",
      "text/plain": [
       "<matplotlib.figure.Figure at 0x7f913a98a710>"
      ]
     },
     "metadata": {},
     "output_type": "display_data"
    },
    {
     "data": {
      "image/png": "[encoded data removed]",
      "text/plain": [
       "<matplotlib.figure.Figure at 0x7f913590d950>"
      ]
     },
     "metadata": {},
     "output_type": "display_data"
    }
   ],
   "source": [
    "print_hist(server_data[server_data['target'] == 1]['month'])\n",
    "print_hist(server_data[server_data['target'] == 2]['month'])\n",
    "print_hist(server_data[server_data['target'] == 3]['month'])"
   ]
  },
  {
   "cell_type": "code",
   "execution_count": 49,
   "metadata": {
    "collapsed": false
   },
   "outputs": [
    {
     "data": {
      "image/png": "[encoded data removed]",
      "text/plain": [
       "<matplotlib.figure.Figure at 0x7f915a1af490>"
      ]
     },
     "metadata": {},
     "output_type": "display_data"
    },
    {
     "data": {
      "image/png": "[encoded data removed]",
      "text/plain": [
       "<matplotlib.figure.Figure at 0x7f915e689f90>"
      ]
     },
     "metadata": {},
     "output_type": "display_data"
    },
    {
     "data": {
      "image/png": "[encoded data removed]",
      "text/plain": [
       "<matplotlib.figure.Figure at 0x7f915efe8b50>"
      ]
     },
     "metadata": {},
     "output_type": "display_data"
    }
   ],
   "source": [
    "print_hist(server_data[server_data['target'] == 1]['day'], b=31)\n",
    "print_hist(server_data[server_data['target'] == 2]['day'], b=31)\n",
    "print_hist(server_data[server_data['target'] == 3]['day'], b=31)"
   ]
  },
  {
   "cell_type": "code",
   "execution_count": 89,
   "metadata": {
    "collapsed": false
   },
   "outputs": [
    {
     "name": "stdout",
     "output_type": "stream",
     "text": [
      "Shape: (5,)\n",
      "[   1.7720032     1.68130638    1.8185499   367.61719204    3.        ]\n",
      "Shape: (5,)\n",
      "[-1.68359005 -1.6684451  -2.33480303 -0.14817651  1.        ]\n"
     ]
    },
    {
     "data": {
      "text/plain": [
       "0.76818717816801052"
      ]
     },
     "execution_count": 89,
     "metadata": {},
     "output_type": "execute_result"
    }
   ],
   "source": [
    "KNN = KNeighborsClassifier(1)\n",
    "\n",
    "server_stand = hstack((preprocessing.scale(server_data[['day', 'dayofweek', 'hour', 'size']], axis=0),  server_data['target'].get_values().reshape(-1, 1)))\n",
    "server_stand_perm = random.permutation(server_stand)\n",
    "\n",
    "print server_stand.max(axis=0)\n",
    "print server_stand.min(axis=0)\n",
    "\n",
    "KNN.fit(server_stand_perm[:1000000, :4], server_stand_perm[:1000000, 4])\n",
    "(KNN.predict(server_stand_perm[1000000:, :4]) == server_stand_perm[1000000:, 4]).mean()"
   ]
  },
  {
   "cell_type": "code",
   "execution_count": 90,
   "metadata": {
    "collapsed": false
   },
   "outputs": [
    {
     "name": "stdout",
     "output_type": "stream",
     "text": [
      "Shape: (5,)\n",
      "[  1.19779305e-03   1.18885739e-03   1.12888859e-03   2.51148572e-01\n",
      "   3.00000000e+00]\n",
      "Shape: (5,)\n",
      "[  3.86384854e-05   0.00000000e+00   0.00000000e+00   0.00000000e+00\n",
      "   1.00000000e+00]\n"
     ]
    },
    {
     "data": {
      "text/plain": [
       "0.77324361116549278"
      ]
     },
     "execution_count": 90,
     "metadata": {},
     "output_type": "execute_result"
    }
   ],
   "source": [
    "server_norm = hstack((preprocessing.normalize(server_data[['day', 'dayofweek', 'hour', 'size']], axis=0),  server_data['target'].get_values().reshape(-1, 1)))\n",
    "server_norm_perm = random.permutation(server_norm)\n",
    "\n",
    "print server_norm.max(axis=0)\n",
    "print server_norm.min(axis=0)\n",
    "\n",
    "KNN.fit(server_norm_perm[:1000000, :4], server_norm_perm[:1000000, 4])\n",
    "(KNN.predict(server_norm_perm[1000000:, :4]) == server_norm_perm[1000000:, 4]).mean()"
   ]
  },
  {
   "cell_type": "code",
   "execution_count": 91,
   "metadata": {
    "collapsed": false
   },
   "outputs": [
    {
     "name": "stdout",
     "output_type": "stream",
     "text": [
      "day                31.0\n",
      "dayofweek           6.0\n",
      "hour            86399.0\n",
      "size         30193824.0\n",
      "target              3.0\n",
      "dtype: float64\n",
      "day          1.0\n",
      "dayofweek    0.0\n",
      "hour         0.0\n",
      "size         0.0\n",
      "target       1.0\n",
      "dtype: float64\n"
     ]
    },
    {
     "data": {
      "text/plain": [
       "0.70544570458156719"
      ]
     },
     "execution_count": 91,
     "metadata": {},
     "output_type": "execute_result"
    }
   ],
   "source": [
    "server= server_data[['day', 'dayofweek', 'hour', 'size', 'target']]\n",
    "server_perm = random.permutation(server)\n",
    "\n",
    "print server.max(axis=0)\n",
    "print server.min(axis=0)\n",
    "\n",
    "KNN.fit(server_perm[:1000000, :4], server_perm[:1000000, 4])\n",
    "(KNN.predict(server_perm[1000000:, :4]) == server_perm[1000000:, 4]).mean()"
   ]
  },
  {
   "cell_type": "code",
   "execution_count": 92,
   "metadata": {
    "collapsed": false
   },
   "outputs": [
    {
     "name": "stdout",
     "output_type": "stream",
     "text": [
      "Shape: (4,)\n",
      "[ 367.6164154     2.3356157     4.34407289    1.76386526]\n",
      "Shape: (4,)\n",
      "[-0.14880526 -2.3086003  -1.68804809 -1.75636218]\n"
     ]
    },
    {
     "data": {
      "text/plain": [
       "0.76749787152671856"
      ]
     },
     "execution_count": 92,
     "metadata": {},
     "output_type": "execute_result"
    }
   ],
   "source": [
    "server_pca = decomposition.PCA(whiten=True).fit_transform(server_perm[:, :4])\n",
    "\n",
    "print server_pca.max(axis=0)\n",
    "print server_pca.min(axis=0)\n",
    "\n",
    "KNN.fit(server_pca[:1000000, :4], server_perm[:1000000, 4])\n",
    "(KNN.predict(server_pca[1000000:, :4]) == server_perm[1000000:, 4]).mean()"
   ]
  },
  {
   "cell_type": "code",
   "execution_count": 133,
   "metadata": {
    "collapsed": false
   },
   "outputs": [],
   "source": [
    "server = server_data[['day', 'dayofweek', 'hour', 'method', 'protocol', 'code', 'size', 'target']]\n",
    "server_perm = random.permutation(server)\n",
    "\n",
    "X = server_perm[:,:7]\n",
    "y = server_perm[:,7]\n",
    "\n",
    "km = KMeans(n_clusters=3).fit(X)"
   ]
  },
  {
   "cell_type": "code",
   "execution_count": 134,
   "metadata": {
    "collapsed": false
   },
   "outputs": [
    {
     "name": "stdout",
     "output_type": "stream",
     "text": [
      "Shape: (2098205,)\n",
      "[0 0 0 ..., 0 0 0]\n",
      "Counter({0: 2093452, 1: 4711, 2: 42})\n"
     ]
    }
   ],
   "source": [
    "from collections import Counter\n",
    "print km.labels_\n",
    "print Counter(km.labels_)\n",
    "#km.predict(Xtest[1001000:1002000])"
   ]
  },
  {
   "cell_type": "code",
   "execution_count": 189,
   "metadata": {
    "collapsed": false
   },
   "outputs": [
    {
     "name": "stdout",
     "output_type": "stream",
     "text": [
      "intranet\n",
      "ip:128\n",
      "ip:129\n",
      "ip:13\n",
      "ip:130\n",
      "ip:131\n",
      "ip:132\n",
      "ip:133\n",
      "ip:134\n",
      "ip:135\n",
      "ip:136\n",
      "ip:137\n",
      "ip:138\n",
      "ip:139\n",
      "ip:140\n",
      "ip:141\n",
      "ip:142\n",
      "ip:143\n",
      "ip:144\n",
      "ip:145\n",
      "ip:146\n",
      "ip:147\n",
      "ip:148\n",
      "ip:149\n",
      "ip:15\n",
      "ip:150\n",
      "ip:151\n",
      "ip:152\n",
      "ip:153\n",
      "ip:154\n",
      "ip:155\n",
      "ip:156\n",
      "ip:157\n",
      "ip:158\n",
      "ip:159\n",
      "ip:160\n",
      "ip:161\n",
      "ip:162\n",
      "ip:163\n",
      "ip:164\n",
      "ip:165\n",
      "ip:166\n",
      "ip:167\n",
      "ip:168\n",
      "ip:169\n",
      "ip:17\n",
      "ip:170\n",
      "ip:171\n",
      "ip:18\n",
      "ip:192\n",
      "ip:193\n",
      "ip:194\n",
      "ip:196\n",
      "ip:198\n",
      "ip:199\n",
      "ip:20\n",
      "ip:200\n",
      "ip:202\n",
      "ip:203\n",
      "ip:204\n",
      "ip:205\n",
      "ip:206\n",
      "ip:33\n",
      "ip:35\n",
      "ip:36\n",
      "ip:38\n",
      "ip:40\n",
      "ip:44\n",
      "ip:45\n",
      "ip:57\n",
      "ip:6\n",
      "tld:ar\n",
      "tld:arpa\n",
      "tld:at\n",
      "tld:au\n",
      "tld:be\n",
      "tld:bm\n",
      "tld:br\n",
      "tld:ca\n",
      "tld:ch\n",
      "tld:cl\n",
      "tld:cn\n",
      "tld:co\n",
      "tld:com\n",
      "tld:cr\n",
      "tld:cy\n",
      "tld:cz\n",
      "tld:de\n",
      "tld:dk\n",
      "tld:do\n",
      "tld:ec\n",
      "tld:edu\n",
      "tld:ee\n",
      "tld:eecs\n",
      "tld:eg\n",
      "tld:es\n",
      "tld:fi\n",
      "tld:fj\n",
      "tld:fr\n",
      "tld:gb\n",
      "tld:ge\n",
      "tld:gl\n",
      "tld:go\n",
      "tld:gov\n",
      "tld:gr\n",
      "tld:hk\n",
      "tld:hps\n",
      "tld:hr\n",
      "tld:hu\n",
      "tld:id\n",
      "tld:ie\n",
      "tld:il\n",
      "tld:in\n",
      "tld:int\n",
      "tld:is\n",
      "tld:it\n",
      "tld:jm\n",
      "tld:jp\n",
      "tld:kr\n",
      "tld:kw\n",
      "tld:li\n",
      "tld:line4\n",
      "tld:line5\n",
      "tld:lu\n",
      "tld:lv\n",
      "tld:microd\n",
      "tld:mil\n",
      "tld:mt\n",
      "tld:mx\n",
      "tld:my\n",
      "tld:net\n",
      "tld:nl\n",
      "tld:no\n",
      "tld:nz\n",
      "tld:org\n",
      "tld:pa\n",
      "tld:pe\n",
      "tld:ph\n",
      "tld:pl\n",
      "tld:pr\n",
      "tld:pt\n",
      "tld:ro\n",
      "tld:rom\n",
      "tld:ru\n",
      "tld:sa\n",
      "tld:se\n",
      "tld:sg\n",
      "tld:si\n",
      "tld:sk\n",
      "tld:su\n",
      "tld:th\n",
      "tld:tr\n",
      "tld:tw\n",
      "tld:ua\n",
      "tld:uk\n",
      "tld:us\n",
      "tld:uy\n",
      "tld:ve\n",
      "tld:xom\n",
      "tld:za\n"
     ]
    }
   ],
   "source": [
    "tld = re.compile('.+\\.(.+)$')\n",
    "ip = re.compile('^(\\d{1,3})\\.\\d{1,3}\\.\\d{1,3}\\.\\d{1,3}')\n",
    "d = server_data[server_data['target'] == 1]['domain']\n",
    "dd = []\n",
    "for l in d:\n",
    "    if ip.match(l) != None:\n",
    "        dd.append(\"ip:\" + ip.match(l).group(1))\n",
    "    elif tld.match(l) != None:\n",
    "        dd.append(\"tld:\" + tld.match(l).group(1))\n",
    "    else:\n",
    "        dd.append(\"intranet\")\n",
    "\n",
    "cat = pd.Categorical.from_array(dd)\n",
    "for c in cat.categories:\n",
    "    print c\n"
   ]
  },
  {
   "cell_type": "code",
   "execution_count": 136,
   "metadata": {
    "collapsed": false
   },
   "outputs": [
    {
     "name": "stdout",
     "output_type": "stream",
     "text": [
      "[/~macphed/finite/fe_resources/node16.html, /dcs/courses/cai/html/introduction_lesson/desc..., /mlookup/white.html, /~scottp/publish.html, /~scottp/index.html, ..., 10887.GIF, index.html, 492.html, index.html, index.html]\n",
      "Length: 2098205\n",
      "Categories (40013, object): [\u0005\u0001, /, /\b, / -  the university of saskatchewan homepage, ..., index.html ~kinawi, index.html ~mildred/451, index.html ���g\u0004�� '܃؃Q���N�@���@�\u0014n@�N@�\u000b",
      "�@�\u000f..., �|\u0005\u0011t\u0003�9ð'À|\u0005\u0011u\u000b",
      "&�G\u0018\u0001]\n"
     ]
    }
   ],
   "source": [
    "print pd.Categorical.from_array(server_data['content'])"
   ]
  }
 ],
 "metadata": {
  "kernelspec": {
   "display_name": "Python 2",
   "language": "python",
   "name": "python2"
  },
  "language_info": {
   "codemirror_mode": {
    "name": "ipython",
    "version": 2
   },
   "file_extension": ".py",
   "mimetype": "text/x-python",
   "name": "python",
   "nbconvert_exporter": "python",
   "pygments_lexer": "ipython2",
   "version": "2.7.11"
  }
 },
 "nbformat": 4,
 "nbformat_minor": 0
}
