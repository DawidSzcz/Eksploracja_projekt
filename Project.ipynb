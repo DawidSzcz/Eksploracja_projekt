{
 "cells": [
  {
   "cell_type": "code",
   "execution_count": 8,
   "metadata": {
    "collapsed": false
   },
   "outputs": [
    {
     "name": "stdout",
     "output_type": "stream",
     "text": [
      "Populating the interactive namespace from numpy and matplotlib\n"
     ]
    }
   ],
   "source": [
    "%pylab inline\n",
    "import pandas as pd\n",
    "import re"
   ]
  },
  {
   "cell_type": "code",
   "execution_count": 9,
   "metadata": {
    "collapsed": false
   },
   "outputs": [],
   "source": [
    "data = pd.read_csv('NASA_access_log.gz', sep='\\n', header = None)"
   ]
  },
  {
   "cell_type": "code",
   "execution_count": 20,
   "metadata": {
    "collapsed": false
   },
   "outputs": [],
   "source": [
    "r = re.compile('([^ ]+) - - \\[(.+)\\] \\\"(.+)\\\" (\\d+) (\\d+|-)')\n",
    "\n",
    "m =  array([r.match(x).groups() for x in data[0]])"
   ]
  },
  {
   "cell_type": "code",
   "execution_count": 21,
   "metadata": {
    "collapsed": false
   },
   "outputs": [],
   "source": [
    "from datetime import datetime\n",
    "import locale\n",
    "locale.setlocale(locale.LC_TIME, \"en_US.UTF-8\")\n",
    "\n",
    "hour = []\n",
    "date = []\n",
    "for i in xrange(len(m)):\n",
    "    t = datetime.strptime(m[i][1][:20], \"%d/%b/%Y:%H:%M:%S\")\n",
    "    d = t.replace(hour=0, minute=0, second=0)\n",
    "    hour.append((t - d).total_seconds())\n",
    "    date.append(d.strftime(\"%s\"))\n"
   ]
  },
  {
   "cell_type": "code",
   "execution_count": 91,
   "metadata": {
    "collapsed": false
   },
   "outputs": [],
   "source": [
    "def clip(text, pref, suf):\n",
    "    b = 0\n",
    "    e = len(text)\n",
    "    if pref != None:\n",
    "        b= len(pref)\n",
    "    if suf != None:\n",
    "        e = -len(suf)\n",
    "    return text[b:e].strip()\n",
    "\n",
    "z = m[:, 2]\n",
    "re_method = re.compile('^GET|HEAD|POST')\n",
    "re_protocol= re.compile('HTTP.*$')\n",
    "method = [ re_method.match(row).group() if re_method.match(row) != None else None for row in z]\n",
    "protocol = [ re_protocol.search(row).group() if re_protocol.search(row) != None else None for row in z]\n",
    "\n",
    "content = [[x[0], clip(x[1], x[0], x[2]), x[2]] for x in zip(method, z, protocol)]      "
   ]
  },
  {
   "cell_type": "code",
   "execution_count": 92,
   "metadata": {
    "collapsed": false
   },
   "outputs": [
    {
     "name": "stdout",
     "output_type": "stream",
     "text": [
      "['199.72.81.55' '01/Jul/1995:00:00:01 -0400'\n",
      " 'GET /history/apollo/ HTTP/1.0' '200' '6245']\n",
      "['199.72.81.55' '01/Jul/1995:00:00:01 -0400' '200' '6245' 'GET'\n",
      " '/history/apollo/' 'HTTP/1.0']\n"
     ]
    }
   ],
   "source": [
    "#moja czesc dadana, nie do konca czaje jak to wygląda z Twoją\n",
    "data = hstack((m[:, [0,1,3,4]], content))\n",
    "print m[0]\n",
    "print data[0]"
   ]
  },
  {
   "cell_type": "code",
   "execution_count": 89,
   "metadata": {
    "collapsed": false
   },
   "outputs": [
    {
     "name": "stdout",
     "output_type": "stream",
     "text": [
      "ss s     s\n"
     ]
    }
   ],
   "source": [
    "print \"   ss s     s   \""
   ]
  }
 ],
 "metadata": {
  "kernelspec": {
   "display_name": "Python 2",
   "language": "python",
   "name": "python2"
  },
  "language_info": {
   "codemirror_mode": {
    "name": "ipython",
    "version": 2
   },
   "file_extension": ".py",
   "mimetype": "text/x-python",
   "name": "python",
   "nbconvert_exporter": "python",
   "pygments_lexer": "ipython2",
   "version": "2.7.11"
  }
 },
 "nbformat": 4,
 "nbformat_minor": 0
}
