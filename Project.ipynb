{
 "cells": [
  {
   "cell_type": "code",
   "execution_count": 1,
   "metadata": {
    "collapsed": false
   },
   "outputs": [
    {
     "name": "stdout",
     "output_type": "stream",
     "text": [
      "Populating the interactive namespace from numpy and matplotlib\n"
     ]
    }
   ],
   "source": [
    "%pylab inline\n",
    "import pandas as pd\n",
    "import re"
   ]
  },
  {
   "cell_type": "code",
   "execution_count": 2,
   "metadata": {
    "collapsed": false
   },
   "outputs": [],
   "source": [
    "data = pd.read_csv('NASA_access_log.gz', sep='\\n', header = None)"
   ]
  },
  {
   "cell_type": "code",
   "execution_count": 3,
   "metadata": {
    "collapsed": false
   },
   "outputs": [],
   "source": [
    "r = re.compile('([^ ]+) - - \\[(.+)\\] \\\"(.+)\\\" (\\d+) (\\d+|-)')\n",
    "\n",
    "m =  array([r.match(x).groups() for x in data[0]])"
   ]
  },
  {
   "cell_type": "code",
   "execution_count": null,
   "metadata": {
    "collapsed": false
   },
   "outputs": [],
   "source": [
    "#from datetime import datetime\n",
    "from dateutil.parser import parse\n",
    "#import locale\n",
    "#locale.setlocale(locale.LC_TIME, \"en_US.UTF-8\")\n",
    "\n",
    "\"\"\"\n",
    "#t = datetime.strptime(m[0][1][:20], \"%d/%b/%Y:%H:%M:%S\")\n",
    "t = parse(m[0][1].replace(':', ' ', 1))\n",
    "#t = datetime.strptime(\"+4000\", \"%Z\")\n",
    "print t\n",
    "\"\"\"\n",
    "hour = []\n",
    "date = []\n",
    "for i in xrange(len(m)):\n",
    "    t = parse(m[i][1].replace(':', ' ', 1))\n",
    "    #t = datetime.strptime(m[i][1][:20], \"%d/%b/%Y:%H:%M:%S\")\n",
    "    d = t.replace(hour=0, minute=0, second=0)\n",
    "    hour.append((t - d).total_seconds())\n",
    "    date.append(d.strftime(\"%s\"))\n",
    "\n",
    "date = asarray(date)\n",
    "hour = asarray(hour)"
   ]
  },
  {
   "cell_type": "code",
   "execution_count": 5,
   "metadata": {
    "collapsed": false
   },
   "outputs": [],
   "source": [
    "def clip(text, pref, suf):\n",
    "    b = 0\n",
    "    e = len(text)\n",
    "    if pref != None:\n",
    "        b= len(pref)\n",
    "    if suf != None:\n",
    "        e = -len(suf)\n",
    "    return text[b:e].strip()\n",
    "\n",
    "z = m[:, 2]\n",
    "re_method = re.compile('^GET|HEAD|POST')\n",
    "re_protocol= re.compile('HTTP.*$')\n",
    "method = [ re_method.match(row).group() if re_method.match(row) != None else None for row in z]\n",
    "protocol = [ re_protocol.search(row).group() if re_protocol.search(row) != None else None for row in z]\n",
    "\n",
    "content = [[x[0], clip(x[1], x[0], x[2]), x[2]] for x in zip(method, z, protocol)]      "
   ]
  },
  {
   "cell_type": "code",
   "execution_count": 94,
   "metadata": {
    "collapsed": false
   },
   "outputs": [
    {
     "name": "stdout",
     "output_type": "stream",
     "text": [
      "Shape: (5,)\n",
      "['ix-or10-06.ix.netcom.com' '01/Jul/1995:00:03:34 -0400'\n",
      " 'GET /software/winvn/readme.txt HTTP/1.0' '200' '5736']\n",
      "Shape: (8,)\n",
      "['ix-or10-06.ix.netcom.com' '804549600' 214.0 '200' '5736' 'GET'\n",
      " '/software/winvn/readme.txt' 'HTTP/1.0']\n"
     ]
    }
   ],
   "source": [
    "data = hstack((m[:, [0]], \n",
    "               reshape(date, (3461612, 1)),\n",
    "               reshape(hour, (3461612, 1)),\n",
    "               m[:, [3,4]], content))\n",
    "\n",
    "print m[200]\n",
    "print data[200]"
   ]
  },
  {
   "cell_type": "code",
   "execution_count": 78,
   "metadata": {
    "collapsed": false
   },
   "outputs": [
    {
     "data": {
      "text/plain": [
       "<matplotlib.text.Text at 0x7f02719b5210>"
      ]
     },
     "execution_count": 78,
     "metadata": {},
     "output_type": "execute_result"
    },
    {
     "data": {
      "image/png": "[encoded data removed]",
      "text/plain": [
       "<matplotlib.figure.Figure at 0x7f02dc423510>"
      ]
     },
     "metadata": {},
     "output_type": "display_data"
    }
   ],
   "source": [
    "res = 24*60/15 # fifteen minute bars\n",
    "\n",
    "figure(figsize = (10,7))\n",
    "xlim(0, 24)\n",
    "hist(hour/60/60, bins=res)\n",
    "xlabel('hour')\n",
    "ylabel('# of requests')"
   ]
  },
  {
   "cell_type": "code",
   "execution_count": 97,
   "metadata": {
    "collapsed": false
   },
   "outputs": [
    {
     "ename": "ValueError",
     "evalue": "'s' is a bad directive in format '%s'",
     "output_type": "error",
     "traceback": [
      "\u001b[1;31m---------------------------------------------------------------------------\u001b[0m",
      "\u001b[1;31mValueError\u001b[0m                                Traceback (most recent call last)",
      "\u001b[1;32m<ipython-input-97-e10b9158c232>\u001b[0m in \u001b[0;36m<module>\u001b[1;34m()\u001b[0m\n\u001b[1;32m----> 1\u001b[1;33m \u001b[1;32mprint\u001b[0m \u001b[0mdatetime\u001b[0m\u001b[1;33m.\u001b[0m\u001b[0mstrptime\u001b[0m\u001b[1;33m(\u001b[0m\u001b[0mdata\u001b[0m\u001b[1;33m[\u001b[0m\u001b[1;36m0\u001b[0m\u001b[1;33m]\u001b[0m\u001b[1;33m[\u001b[0m\u001b[1;36m1\u001b[0m\u001b[1;33m]\u001b[0m\u001b[1;33m,\u001b[0m \u001b[1;34m\"%s\"\u001b[0m\u001b[1;33m)\u001b[0m\u001b[1;33m\u001b[0m\u001b[0m\n\u001b[0m",
      "\u001b[1;32m/home/i248066/.conda/envs/my_root/lib/python2.7/_strptime.pyc\u001b[0m in \u001b[0;36m_strptime\u001b[1;34m(data_string, format)\u001b[0m\n\u001b[0;32m    315\u001b[0m                 \u001b[1;32mdel\u001b[0m \u001b[0merr\u001b[0m\u001b[1;33m\u001b[0m\u001b[0m\n\u001b[0;32m    316\u001b[0m                 raise ValueError(\"'%s' is a bad directive in format '%s'\" %\n\u001b[1;32m--> 317\u001b[1;33m                                     (bad_directive, format))\n\u001b[0m\u001b[0;32m    318\u001b[0m             \u001b[1;31m# IndexError only occurs when the format string is \"%\"\u001b[0m\u001b[1;33m\u001b[0m\u001b[1;33m\u001b[0m\u001b[0m\n\u001b[0;32m    319\u001b[0m             \u001b[1;32mexcept\u001b[0m \u001b[0mIndexError\u001b[0m\u001b[1;33m:\u001b[0m\u001b[1;33m\u001b[0m\u001b[0m\n",
      "\u001b[1;31mValueError\u001b[0m: 's' is a bad directive in format '%s'"
     ]
    }
   ],
   "source": [
    "#print datetime.strptime(data[0][1], \"%s\")"
   ]
  }
 ],
 "metadata": {
  "kernelspec": {
   "display_name": "Python 2",
   "language": "python",
   "name": "python2"
  },
  "language_info": {
   "codemirror_mode": {
    "name": "ipython",
    "version": 2
   },
   "file_extension": ".py",
   "mimetype": "text/x-python",
   "name": "python",
   "nbconvert_exporter": "python",
   "pygments_lexer": "ipython2",
   "version": "2.7.11"
  }
 },
 "nbformat": 4,
 "nbformat_minor": 0
}
