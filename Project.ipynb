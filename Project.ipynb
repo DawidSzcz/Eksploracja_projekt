{
 "cells": [
  {
   "cell_type": "code",
   "execution_count": 4,
   "metadata": {
    "collapsed": false
   },
   "outputs": [
    {
     "name": "stdout",
     "output_type": "stream",
     "text": [
      "Populating the interactive namespace from numpy and matplotlib\n"
     ]
    }
   ],
   "source": [
    "%pylab inline\n",
    "import pandas as pd"
   ]
  },
  {
   "cell_type": "code",
   "execution_count": 10,
   "metadata": {
    "collapsed": false
   },
   "outputs": [],
   "source": [
    "data = pd.read_csv('../DataSets/NASA_access_log_Jul95', sep='\\n', header = None)"
   ]
  },
  {
   "cell_type": "code",
   "execution_count": 16,
   "metadata": {
    "collapsed": false
   },
   "outputs": [
    {
     "name": "stdout",
     "output_type": "stream",
     "text": [
      "0          199.72.81.55 - - [01/Jul/1995:00:00:01 -0400] ...\n",
      "1          unicomp6.unicomp.net - - [01/Jul/1995:00:00:06...\n",
      "2          199.120.110.21 - - [01/Jul/1995:00:00:09 -0400...\n",
      "3          burger.letters.com - - [01/Jul/1995:00:00:11 -...\n",
      "4          199.120.110.21 - - [01/Jul/1995:00:00:11 -0400...\n",
      "5          burger.letters.com - - [01/Jul/1995:00:00:12 -...\n",
      "6          burger.letters.com - - [01/Jul/1995:00:00:12 -...\n",
      "7          205.212.115.106 - - [01/Jul/1995:00:00:12 -040...\n",
      "8          d104.aa.net - - [01/Jul/1995:00:00:13 -0400] \"...\n",
      "9          129.94.144.152 - - [01/Jul/1995:00:00:13 -0400...\n",
      "10         unicomp6.unicomp.net - - [01/Jul/1995:00:00:14...\n",
      "11         unicomp6.unicomp.net - - [01/Jul/1995:00:00:14...\n",
      "12         unicomp6.unicomp.net - - [01/Jul/1995:00:00:14...\n",
      "13         d104.aa.net - - [01/Jul/1995:00:00:15 -0400] \"...\n",
      "14         d104.aa.net - - [01/Jul/1995:00:00:15 -0400] \"...\n",
      "15         d104.aa.net - - [01/Jul/1995:00:00:15 -0400] \"...\n",
      "16         129.94.144.152 - - [01/Jul/1995:00:00:17 -0400...\n",
      "17         199.120.110.21 - - [01/Jul/1995:00:00:17 -0400...\n",
      "18         ppptky391.asahi-net.or.jp - - [01/Jul/1995:00:...\n",
      "19         net-1-141.eden.com - - [01/Jul/1995:00:00:19 -...\n",
      "20         ppptky391.asahi-net.or.jp - - [01/Jul/1995:00:...\n",
      "21         205.189.154.54 - - [01/Jul/1995:00:00:24 -0400...\n",
      "22         waters-gw.starway.net.au - - [01/Jul/1995:00:0...\n",
      "23         ppp-mia-30.shadow.net - - [01/Jul/1995:00:00:2...\n",
      "24         205.189.154.54 - - [01/Jul/1995:00:00:29 -0400...\n",
      "25         alyssa.prodigy.com - - [01/Jul/1995:00:00:33 -...\n",
      "26         ppp-mia-30.shadow.net - - [01/Jul/1995:00:00:3...\n",
      "27         dial22.lloyd.com - - [01/Jul/1995:00:00:37 -04...\n",
      "28         smyth-pc.moorecap.com - - [01/Jul/1995:00:00:3...\n",
      "29         205.189.154.54 - - [01/Jul/1995:00:00:40 -0400...\n",
      "                                 ...                        \n",
      "1891685    139.169.210.47 - - [28/Jul/1995:13:32:11 -0400...\n",
      "1891686    163.205.53.14 - - [28/Jul/1995:13:32:12 -0400]...\n",
      "1891687    proxy0.research.att.com - - [28/Jul/1995:13:32...\n",
      "1891688    tty13.maze.ppp.uab.edu - - [28/Jul/1995:13:32:...\n",
      "1891689    alyssa.prodigy.com - - [28/Jul/1995:13:32:14 -...\n",
      "1891690    slipper12055.iaccess.za - - [28/Jul/1995:13:32...\n",
      "1891691    163.205.53.14 - - [28/Jul/1995:13:32:16 -0400]...\n",
      "1891692    163.205.53.14 - - [28/Jul/1995:13:32:16 -0400]...\n",
      "1891693    maynard.isi.uconn.edu - - [28/Jul/1995:13:32:1...\n",
      "1891694    139.169.210.47 - - [28/Jul/1995:13:32:18 -0400...\n",
      "1891695    tornado.umd.edu - - [28/Jul/1995:13:32:18 -040...\n",
      "1891696    199.0.2.27 - - [28/Jul/1995:13:32:19 -0400] \"G...\n",
      "1891697    gk-east.usps.gov - - [28/Jul/1995:13:32:19 -04...\n",
      "1891698    cam2-2.agt.gmeds.com - - [28/Jul/1995:13:32:20...\n",
      "1891699    199.0.2.27 - - [28/Jul/1995:13:32:20 -0400] \"G...\n",
      "1891700    199.0.2.27 - - [28/Jul/1995:13:32:20 -0400] \"G...\n",
      "1891701    199.0.2.27 - - [28/Jul/1995:13:32:20 -0400] \"G...\n",
      "1891702    199.0.2.27 - - [28/Jul/1995:13:32:21 -0400] \"G...\n",
      "1891703    gk-east.usps.gov - - [28/Jul/1995:13:32:21 -04...\n",
      "1891704    gk-east.usps.gov - - [28/Jul/1995:13:32:21 -04...\n",
      "1891705    slipper12055.iaccess.za - - [28/Jul/1995:13:32...\n",
      "1891706    163.205.53.14 - - [28/Jul/1995:13:32:22 -0400]...\n",
      "1891707    maynard.isi.uconn.edu - - [28/Jul/1995:13:32:2...\n",
      "1891708    163.205.53.14 - - [28/Jul/1995:13:32:22 -0400]...\n",
      "1891709    163.205.53.14 - - [28/Jul/1995:13:32:22 -0400]...\n",
      "1891710    163.205.53.14 - - [28/Jul/1995:13:32:23 -0400]...\n",
      "1891711    tiger2.ocs.lsu.edu - - [28/Jul/1995:13:32:23 -...\n",
      "1891712    199.0.2.27 - - [28/Jul/1995:13:32:23 -0400] \"G...\n",
      "1891713    tornado.umd.edu - - [28/Jul/1995:13:32:25 -040...\n",
      "1891714                                             alyssa.p\n",
      "Name: 0, dtype: object\n"
     ]
    }
   ],
   "source": [
    "print data[0]"
   ]
  }
 ],
 "metadata": {
  "kernelspec": {
   "display_name": "Python 2",
   "language": "python",
   "name": "python2"
  },
  "language_info": {
   "codemirror_mode": {
    "name": "ipython",
    "version": 2
   },
   "file_extension": ".py",
   "mimetype": "text/x-python",
   "name": "python",
   "nbconvert_exporter": "python",
   "pygments_lexer": "ipython2",
   "version": "2.7.11"
  }
 },
 "nbformat": 4,
 "nbformat_minor": 0
}
