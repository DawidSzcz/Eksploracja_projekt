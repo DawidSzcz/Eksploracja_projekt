{
 "cells": [
  {
   "cell_type": "code",
   "execution_count": 74,
   "metadata": {
    "collapsed": false
   },
   "outputs": [
    {
     "name": "stdout",
     "output_type": "stream",
     "text": [
      "Populating the interactive namespace from numpy and matplotlib\n"
     ]
    },
    {
     "name": "stderr",
     "output_type": "stream",
     "text": [
      "WARNING: pylab import has clobbered these variables: ['datetime']\n",
      "`%matplotlib` prevents importing * from pylab and numpy\n"
     ]
    }
   ],
   "source": [
    "%pylab inline\n",
    "import pandas as pd"
   ]
  },
  {
   "cell_type": "code",
   "execution_count": 75,
   "metadata": {
    "collapsed": false
   },
   "outputs": [],
   "source": [
    "data = pd.read_csv('NASA_access_log.gz', sep='\\n', header = None)"
   ]
  },
  {
   "cell_type": "code",
   "execution_count": null,
   "metadata": {
    "collapsed": true
   },
   "outputs": [],
   "source": [
    "r = re.compile('([^ ]+) - - \\[(.+)\\] \\\"(.+)\\\" (\\d+) (\\d+|-)')\n",
    "\n",
    "m =  [r.match(x).groups() for x in data[0]]"
   ]
  },
  {
   "cell_type": "code",
   "execution_count": 72,
   "metadata": {
    "collapsed": false
   },
   "outputs": [],
   "source": [
    "from datetime import datetime\n",
    "import locale\n",
    "locale.setlocale(locale.LC_TIME, \"en_US.UTF-8\")\n",
    "\n",
    "hour = []\n",
    "date = []\n",
    "for i in xrange(len(m)):\n",
    "    t = datetime.strptime(m[i][1][:20], \"%d/%b/%Y:%H:%M:%S\")\n",
    "    d = t.replace(hour=0, minute=0, second=0)\n",
    "    hour.append((t - d).total_seconds())\n",
    "    date.append(d.strftime(\"%s\"))\n"
   ]
  },
  {
   "cell_type": "code",
   "execution_count": 73,
   "metadata": {
    "collapsed": false
   },
   "outputs": [
    {
     "name": "stdout",
     "output_type": "stream",
     "text": [
      "[1.0, 6.0, 9.0, 11.0, 11.0]\n",
      "['804549600', '804549600', '804549600', '804549600', '804549600']\n"
     ]
    }
   ],
   "source": [
    "print hour[:5]\n",
    "print date[:5]"
   ]
  }
 ],
 "metadata": {
  "kernelspec": {
   "display_name": "Python 2",
   "language": "python",
   "name": "python2"
  },
  "language_info": {
   "codemirror_mode": {
    "name": "ipython",
    "version": 2
   },
   "file_extension": ".py",
   "mimetype": "text/x-python",
   "name": "python",
   "nbconvert_exporter": "python",
   "pygments_lexer": "ipython2",
   "version": "2.7.11"
  }
 },
 "nbformat": 4,
 "nbformat_minor": 0
}
