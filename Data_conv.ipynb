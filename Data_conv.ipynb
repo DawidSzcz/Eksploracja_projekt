{
 "cells": [
  {
   "cell_type": "code",
   "execution_count": 1,
   "metadata": {
    "collapsed": false
   },
   "outputs": [
    {
     "name": "stdout",
     "output_type": "stream",
     "text": [
      "Populating the interactive namespace from numpy and matplotlib\n"
     ]
    }
   ],
   "source": [
    "%pylab inline\n",
    "import pandas as pd\n",
    "import re\n",
    "from dateutil.parser import parse\n"
   ]
  },
  {
   "cell_type": "code",
   "execution_count": 72,
   "metadata": {
    "collapsed": true
   },
   "outputs": [],
   "source": [
    "def parseDate(date):\n",
    "    t = parse(date.replace(':', ' ', 1))\n",
    "    d = t.replace(hour=0, minute=0, second=0)\n",
    "    return [d.strftime(\"%s\"), (t - d).total_seconds()]\n",
    "\n",
    "def clip(text, pref, suf):\n",
    "    b = 0\n",
    "    e = len(text)\n",
    "    if pref != None:\n",
    "        b= len(pref)\n",
    "    if suf != None:\n",
    "        e = -len(suf)\n",
    "    return text[b:e].strip()"
   ]
  },
  {
   "cell_type": "code",
   "execution_count": 79,
   "metadata": {
    "collapsed": false
   },
   "outputs": [],
   "source": [
    "data_amount = 500000\n",
    "\n",
    "data_nasa = pd.read_csv('NASA_access_log.gz', sep='\\n', header = None).apply(lambda x : x + ' 1')\n",
    "#data_clarc1 = pd.read_csv('clarknet_access_log_Aug28.gz', sep='\\n', header = None)\n",
    "#data_clarc2 = pd.read_csv('clarknet_access_log_Sep4.gz', sep='\\n', header = None)\n",
    "data_sasc = pd.read_csv('usask_access_log.gz', sep='\\n', header = None).apply(lambda x : x + ' 2')\n",
    "data_calgary = pd.read_csv('calgary_access_log.gz', sep='\\n', header = None).apply(lambda x : x + ' 3')\n",
    "\n",
    "r = re.compile('([^ ]+) - .+ \\[(.+)\\] \\\"(.+)\\\" (\\d+) (\\d+|-) (\\d+)')\n",
    "\n",
    "data_nasa = array([r.match(x).groups() for x in random.choice(data_nasa[0], data_amount) if r.match(x) != None ])\n",
    "data_sasc = array([r.match(x).groups() for x in random.choice(data_sasc[0], data_amount) if r.match(x) != None ])\n",
    "data_calgary = array([r.match(x).groups() for x in random.choice( data_calgary[0], data_amount) if r.match(x) != None ])"
   ]
  },
  {
   "cell_type": "code",
   "execution_count": 146,
   "metadata": {
    "collapsed": false,
    "scrolled": true
   },
   "outputs": [
    {
     "name": "stdout",
     "output_type": "stream",
     "text": [
      "10000\n",
      "20000\n",
      "30000\n",
      "40000\n",
      "50000\n",
      "60000\n",
      "70000\n",
      "80000\n",
      "90000\n",
      "100000\n",
      "110000\n",
      "120000\n",
      "130000\n",
      "140000\n",
      "150000\n",
      "160000\n",
      "170000\n",
      "180000\n",
      "190000\n",
      "200000\n",
      "210000\n",
      "220000\n",
      "230000\n",
      "240000\n",
      "250000\n",
      "260000\n",
      "270000\n",
      "280000\n",
      "290000\n",
      "300000\n",
      "310000\n",
      "320000\n",
      "330000\n",
      "340000\n",
      "350000\n",
      "360000\n",
      "370000\n",
      "380000\n",
      "390000\n",
      "400000\n",
      "410000\n",
      "420000\n",
      "430000\n",
      "440000\n",
      "450000\n",
      "460000\n",
      "470000\n",
      "480000\n",
      "490000\n",
      "500000\n"
     ]
    }
   ],
   "source": [
    "server = data_sasc\n",
    "batch_size = 10000\n",
    "\n",
    "for b in arange(0, len(server), batch_size):\n",
    "    print b + batch_size\n",
    "    batch = server[b:b+batch_size]\n",
    "    date = array([parseDate(d) for d in batch[:, 1]])\n",
    "    \n",
    "    z = batch[:, 2]\n",
    "    re_method = re.compile('^GET|HEAD|POST')\n",
    "    re_protocol= re.compile('HTTP.*$')\n",
    "    method = [ re_method.match(row).group() if re_method.match(row) != None else None for row in z]\n",
    "    protocol = [ re_protocol.search(row).group() if re_protocol.search(row) != None else None for row in z]\n",
    "\n",
    "    content = array([[x[0], clip(x[1], x[0], x[2]), x[2]] for x in zip(method, z, protocol)])\n",
    "    \n",
    "    conv = hstack((date, content, batch[:, [0,3,4,5]]))\n",
    "    #print content.shape, date.shape, batch[:, [0,3,4,5]].shape, conv.shape\n",
    "    \n",
    "    d = pd.DataFrame(conv)\n",
    "    d.to_csv('data.gz', mode='a', index=False, sep=';', header = None, compression='gzip')"
   ]
  },
  {
   "cell_type": "code",
   "execution_count": 41,
   "metadata": {
    "collapsed": false
   },
   "outputs": [
    {
     "name": "stderr",
     "output_type": "stream",
     "text": [
      "/pio/lscratch/1/os/anaconda/lib/python2.7/site-packages/ipykernel/__main__.py:3: UserWarning: Boolean Series key will be reindexed to match DataFrame index.\n",
      "  app.launch_new_instance()\n",
      "/pio/lscratch/1/os/anaconda/lib/python2.7/site-packages/ipykernel/__main__.py:4: UserWarning: Boolean Series key will be reindexed to match DataFrame index.\n",
      "/pio/lscratch/1/os/anaconda/lib/python2.7/site-packages/ipykernel/__main__.py:5: UserWarning: Boolean Series key will be reindexed to match DataFrame index.\n"
     ]
    },
    {
     "name": "stdout",
     "output_type": "stream",
     "text": [
      "19128.8143871 5465.15022249 11825.5678159\n"
     ]
    },
    {
     "name": "stderr",
     "output_type": "stream",
     "text": [
      "/pio/lscratch/1/os/anaconda/lib/python2.7/site-packages/ipykernel/__main__.py:7: SettingWithCopyWarning: \n",
      "A value is trying to be set on a copy of a slice from a DataFrame.\n",
      "Try using .loc[row_indexer,col_indexer] = value instead\n",
      "\n",
      "See the caveats in the documentation: http://pandas.pydata.org/pandas-docs/stable/indexing.html#indexing-view-versus-copy\n",
      "/pio/lscratch/1/os/anaconda/lib/python2.7/site-packages/ipykernel/__main__.py:8: SettingWithCopyWarning: \n",
      "A value is trying to be set on a copy of a slice from a DataFrame.\n",
      "Try using .loc[row_indexer,col_indexer] = value instead\n",
      "\n",
      "See the caveats in the documentation: http://pandas.pydata.org/pandas-docs/stable/indexing.html#indexing-view-versus-copy\n",
      "/pio/lscratch/1/os/anaconda/lib/python2.7/site-packages/ipykernel/__main__.py:9: SettingWithCopyWarning: \n",
      "A value is trying to be set on a copy of a slice from a DataFrame.\n",
      "Try using .loc[row_indexer,col_indexer] = value instead\n",
      "\n",
      "See the caveats in the documentation: http://pandas.pydata.org/pandas-docs/stable/indexing.html#indexing-view-versus-copy\n"
     ]
    }
   ],
   "source": [
    "\n",
    "data_c = pd.read_csv('data.gz', sep=';', header = None)\n",
    "mean_n = data_c[data_c[8] == 1][data_c[7] != '-'][7].astype('int').mean()\n",
    "mean_s = data_c[data_c[8] == 2][data_c[7] != '-'][7].astype('int').mean()\n",
    "mean_c = data_c[data_c[8] == 3][data_c[7] != '-'][7].astype('int').mean()\n",
    "print mean_n, mean_s, mean_c\n",
    "data_c[data_c[8] == 1][7] = data_c[data_c[8] == 1][7].map(lambda x: mean_n if x == '-' else x) \n",
    "data_c[data_c[8] == 2][7] = data_c[data_c[8] == 2][7].map(lambda x: mean_s if x == '-' else x) \n",
    "data_c[data_c[8] == 3][7] = data_c[data_c[8] == 3][7].map(lambda x: mean_c if x == '-' else x) \n",
    "#data_c.to_csv('data.gz', mode='w', index=False, sep=';', header = None, compression='gzip')"
   ]
  },
  {
   "cell_type": "code",
   "execution_count": 122,
   "metadata": {
    "collapsed": false
   },
   "outputs": [],
   "source": []
  },
  {
   "cell_type": "code",
   "execution_count": 42,
   "metadata": {
    "collapsed": false
   },
   "outputs": [
    {
     "name": "stdout",
     "output_type": "stream",
     "text": [
      "0               0\n",
      "1           20647\n",
      "2            4209\n",
      "3           46573\n",
      "4            5866\n",
      "5            2400\n",
      "6             669\n",
      "7           15528\n",
      "8           28219\n",
      "9          147230\n",
      "10           4209\n",
      "11          55666\n",
      "12          12054\n",
      "13            234\n",
      "14          18556\n",
      "15             98\n",
      "16              0\n",
      "17            363\n",
      "18          71022\n",
      "19              0\n",
      "20            234\n",
      "21           1404\n",
      "22          21957\n",
      "23          12722\n",
      "24          33242\n",
      "25            234\n",
      "26            509\n",
      "27           1055\n",
      "28           3635\n",
      "29          21793\n",
      "            ...  \n",
      "1498707      2469\n",
      "1498708       214\n",
      "1498709      3442\n",
      "1498710       543\n",
      "1498711         0\n",
      "1498712      3442\n",
      "1498713       238\n",
      "1498714      1700\n",
      "1498715      1479\n",
      "1498716      1103\n",
      "1498717      1667\n",
      "1498718       525\n",
      "1498719      1640\n",
      "1498720      4091\n",
      "1498721         0\n",
      "1498722         0\n",
      "1498723     22788\n",
      "1498724     10674\n",
      "1498725         0\n",
      "1498726       241\n",
      "1498727      2273\n",
      "1498728      5131\n",
      "1498729      9629\n",
      "1498730      1479\n",
      "1498731      1555\n",
      "1498732      1735\n",
      "1498733       978\n",
      "1498734      4657\n",
      "1498735      1640\n",
      "1498736      3424\n",
      "Name: 7, dtype: object\n"
     ]
    }
   ],
   "source": [
    "print data_c[7]"
   ]
  },
  {
   "cell_type": "code",
   "execution_count": null,
   "metadata": {
    "collapsed": true
   },
   "outputs": [],
   "source": []
  }
 ],
 "metadata": {
  "kernelspec": {
   "display_name": "Python 2",
   "language": "python",
   "name": "python2"
  },
  "language_info": {
   "codemirror_mode": {
    "name": "ipython",
    "version": 2
   },
   "file_extension": ".py",
   "mimetype": "text/x-python",
   "name": "python",
   "nbconvert_exporter": "python",
   "pygments_lexer": "ipython2",
   "version": "2.7.11"
  }
 },
 "nbformat": 4,
 "nbformat_minor": 0
}
